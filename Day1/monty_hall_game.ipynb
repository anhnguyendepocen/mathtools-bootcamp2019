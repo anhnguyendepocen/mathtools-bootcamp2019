{
 "cells": [
  {
   "cell_type": "markdown",
   "metadata": {},
   "source": [
    "## Monty Hall game\n",
    "\n",
    "Step 1: What to Simulate  \n",
    "Step 2: Simulating one play   \n",
    "Step 3: Simulating many plays  \n",
    "Step 4: Visualizing results"
   ]
  },
  {
   "cell_type": "code",
   "execution_count": 1,
   "metadata": {},
   "outputs": [],
   "source": [
    "# Step 1: What to Simulate\n",
    "\n",
    "# we need to keep track of what is behind each of the doors\n",
    "# the one the contestant first picks: guessed\n",
    "# the one that Monty opens: revealed\n",
    "# the remaining door: remaining"
   ]
  },
  {
   "cell_type": "code",
   "execution_count": 16,
   "metadata": {},
   "outputs": [],
   "source": [
    "# first, let us build a function that, given one goat, returns the other goat"
   ]
  },
  {
   "cell_type": "code",
   "execution_count": 17,
   "metadata": {},
   "outputs": [],
   "source": [
    "goats = ['goat one', 'goat two']    "
   ]
  },
  {
   "cell_type": "code",
   "execution_count": 18,
   "metadata": {},
   "outputs": [],
   "source": [
    "def other_goat(x):\n",
    "    if x == 'goat one':\n",
    "        return 'goat two'\n",
    "    if x == 'goat two':\n",
    "        return 'goat one'"
   ]
  },
  {
   "cell_type": "code",
   "execution_count": 19,
   "metadata": {
    "scrolled": true
   },
   "outputs": [
    {
     "data": {
      "text/plain": [
       "'goat two'"
      ]
     },
     "execution_count": 19,
     "metadata": {},
     "output_type": "execute_result"
    }
   ],
   "source": [
    "other_goat(x='goat one')"
   ]
  },
  {
   "cell_type": "code",
   "execution_count": 20,
   "metadata": {},
   "outputs": [
    {
     "data": {
      "text/plain": [
       "'goat one'"
      ]
     },
     "execution_count": 20,
     "metadata": {},
     "output_type": "execute_result"
    }
   ],
   "source": [
    "other_goat('goat two')"
   ]
  },
  {
   "cell_type": "code",
   "execution_count": 21,
   "metadata": {},
   "outputs": [],
   "source": [
    "outcome = other_goat('goat one')"
   ]
  },
  {
   "cell_type": "code",
   "execution_count": 22,
   "metadata": {},
   "outputs": [
    {
     "data": {
      "text/plain": [
       "'goat two'"
      ]
     },
     "execution_count": 22,
     "metadata": {},
     "output_type": "execute_result"
    }
   ],
   "source": [
    "outcome"
   ]
  },
  {
   "cell_type": "code",
   "execution_count": null,
   "metadata": {},
   "outputs": [],
   "source": [
    "# to make a random choice of an element in a list, use np.random.choice"
   ]
  },
  {
   "cell_type": "code",
   "execution_count": 8,
   "metadata": {},
   "outputs": [],
   "source": [
    "import numpy as np"
   ]
  },
  {
   "cell_type": "code",
   "execution_count": 9,
   "metadata": {},
   "outputs": [
    {
     "data": {
      "text/plain": [
       "'goat two'"
      ]
     },
     "execution_count": 9,
     "metadata": {},
     "output_type": "execute_result"
    }
   ],
   "source": [
    "np.random.choice(goats)"
   ]
  },
  {
   "cell_type": "code",
   "execution_count": null,
   "metadata": {},
   "outputs": [],
   "source": []
  },
  {
   "cell_type": "code",
   "execution_count": 10,
   "metadata": {},
   "outputs": [],
   "source": [
    "# Step 2: Simulating one play \n",
    "\n",
    "# there are three things to keep track of\n",
    "# guess\n",
    "# revealed\n",
    "# remaining\n",
    "\n",
    "hidden_behind_door = ['car', 'goat one', 'goat two']"
   ]
  },
  {
   "cell_type": "code",
   "execution_count": 11,
   "metadata": {},
   "outputs": [
    {
     "name": "stdout",
     "output_type": "stream",
     "text": [
      "goat one\n",
      "guess:  goat one revealed:  goat two\n"
     ]
    }
   ],
   "source": [
    "guessed = np.random.choice(hidden_behind_door)\n",
    "\n",
    "print(guessed)\n",
    "\n",
    "# there are two cases to consider\n",
    "if 'goat' in guessed:\n",
    "    revealed = other_goat(guessed)\n",
    "    print('guess: ', guessed, 'revealed: ', revealed)\n",
    "\n",
    "if guessed == 'car':\n",
    "    revealed = np.random.choice(goats)\n",
    "    print('guess: ', guessed, 'revealed: ', revealed)"
   ]
  },
  {
   "cell_type": "code",
   "execution_count": null,
   "metadata": {},
   "outputs": [],
   "source": []
  },
  {
   "cell_type": "code",
   "execution_count": 12,
   "metadata": {},
   "outputs": [],
   "source": [
    "def monty_hall_game(x, y):\n",
    "    '''\n",
    "    this function simulates one game\n",
    "    \n",
    "    Arguments\n",
    "    x: list of what is behind the doors\n",
    "    y: list of the less desirable prizes\n",
    "    \n",
    "    Returns\n",
    "    [guessed, revealed, returned]\n",
    "    '''\n",
    "    \n",
    "    guessed = np.random.choice(x)\n",
    "        \n",
    "    if 'goat' in guessed:\n",
    "        revealed = other_goat(guessed)\n",
    "        remaining = 'car'\n",
    "        \n",
    "        return [guessed, revealed, remaining]\n",
    "\n",
    "    if guessed == 'car':\n",
    "        revealed = np.random.choice(y)\n",
    "        remaining = other_goat(revealed)\n",
    "    \n",
    "        return [guessed, revealed, remaining]        "
   ]
  },
  {
   "cell_type": "code",
   "execution_count": 13,
   "metadata": {},
   "outputs": [
    {
     "data": {
      "text/plain": [
       "['goat two', 'goat one', 'car']"
      ]
     },
     "execution_count": 13,
     "metadata": {},
     "output_type": "execute_result"
    }
   ],
   "source": [
    "monty_hall_game(x=hidden_behind_door, y=goats)"
   ]
  },
  {
   "cell_type": "code",
   "execution_count": 14,
   "metadata": {},
   "outputs": [
    {
     "data": {
      "text/plain": [
       "['car', 'goat one', 'goat two']"
      ]
     },
     "execution_count": 14,
     "metadata": {},
     "output_type": "execute_result"
    }
   ],
   "source": [
    "monty_hall_game(x=hidden_behind_door, y=goats)"
   ]
  },
  {
   "cell_type": "code",
   "execution_count": 15,
   "metadata": {},
   "outputs": [
    {
     "data": {
      "text/plain": [
       "['goat two', 'goat one', 'car']"
      ]
     },
     "execution_count": 15,
     "metadata": {},
     "output_type": "execute_result"
    }
   ],
   "source": [
    "monty_hall_game(x=hidden_behind_door, y=goats)"
   ]
  }
 ],
 "metadata": {
  "kernelspec": {
   "display_name": "Python 3",
   "language": "python",
   "name": "python3"
  },
  "language_info": {
   "codemirror_mode": {
    "name": "ipython",
    "version": 3
   },
   "file_extension": ".py",
   "mimetype": "text/x-python",
   "name": "python",
   "nbconvert_exporter": "python",
   "pygments_lexer": "ipython3",
   "version": "3.7.2"
  }
 },
 "nbformat": 4,
 "nbformat_minor": 2
}

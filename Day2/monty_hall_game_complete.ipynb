{
 "cells": [
  {
   "cell_type": "markdown",
   "metadata": {},
   "source": [
    "## Monty Hall game\n",
    "\n",
    "Step 1: What to Simulate  \n",
    "Step 2: Simulating one play   \n",
    "Step 3: Simulating many plays  \n",
    "Step 4: Visualizing results"
   ]
  },
  {
   "cell_type": "code",
   "execution_count": 1,
   "metadata": {},
   "outputs": [],
   "source": [
    "# Step 1: What to Simulate\n",
    "\n",
    "# we need to keep track of what is behind each of the doors\n",
    "# the one the contestant first picks: guessed\n",
    "# the one that Monty opens: revealed\n",
    "# the remaining door: remaining"
   ]
  },
  {
   "cell_type": "code",
   "execution_count": 2,
   "metadata": {},
   "outputs": [],
   "source": [
    "# first, let us build a function that, given one goat, returns the other goat"
   ]
  },
  {
   "cell_type": "code",
   "execution_count": 3,
   "metadata": {},
   "outputs": [],
   "source": [
    "goats = ['goat one', 'goat two']    "
   ]
  },
  {
   "cell_type": "code",
   "execution_count": 4,
   "metadata": {},
   "outputs": [],
   "source": [
    "def other_goat(x):\n",
    "    if x == 'goat one':\n",
    "        return 'goat two'\n",
    "    if x == 'goat two':\n",
    "        return 'goat one'"
   ]
  },
  {
   "cell_type": "code",
   "execution_count": 5,
   "metadata": {
    "scrolled": true
   },
   "outputs": [
    {
     "data": {
      "text/plain": [
       "'goat two'"
      ]
     },
     "execution_count": 5,
     "metadata": {},
     "output_type": "execute_result"
    }
   ],
   "source": [
    "other_goat(x='goat one')"
   ]
  },
  {
   "cell_type": "code",
   "execution_count": 6,
   "metadata": {},
   "outputs": [
    {
     "data": {
      "text/plain": [
       "'goat one'"
      ]
     },
     "execution_count": 6,
     "metadata": {},
     "output_type": "execute_result"
    }
   ],
   "source": [
    "other_goat('goat two')"
   ]
  },
  {
   "cell_type": "code",
   "execution_count": 7,
   "metadata": {},
   "outputs": [],
   "source": [
    "outcome = other_goat('goat one')"
   ]
  },
  {
   "cell_type": "code",
   "execution_count": 8,
   "metadata": {},
   "outputs": [
    {
     "data": {
      "text/plain": [
       "'goat two'"
      ]
     },
     "execution_count": 8,
     "metadata": {},
     "output_type": "execute_result"
    }
   ],
   "source": [
    "outcome"
   ]
  },
  {
   "cell_type": "code",
   "execution_count": null,
   "metadata": {},
   "outputs": [],
   "source": [
    "# to make a random choice of an element in a list, use np.random.choice"
   ]
  },
  {
   "cell_type": "code",
   "execution_count": null,
   "metadata": {},
   "outputs": [],
   "source": [
    "import numpy as np"
   ]
  },
  {
   "cell_type": "code",
   "execution_count": null,
   "metadata": {},
   "outputs": [],
   "source": [
    "np.random.choice(goats)"
   ]
  },
  {
   "cell_type": "code",
   "execution_count": null,
   "metadata": {},
   "outputs": [],
   "source": []
  },
  {
   "cell_type": "code",
   "execution_count": null,
   "metadata": {},
   "outputs": [],
   "source": [
    "# Step 2: Simulating one play \n",
    "\n",
    "# there are three things to keep track of\n",
    "# guess\n",
    "# revealed\n",
    "# remaining\n",
    "\n",
    "hidden_behind_doors = ['car', 'goat one', 'goat two']"
   ]
  },
  {
   "cell_type": "code",
   "execution_count": null,
   "metadata": {},
   "outputs": [],
   "source": [
    "guessed = np.random.choice(hidden_behind_doors)\n",
    "\n",
    "print(guessed)\n",
    "\n",
    "# there are two cases to consider\n",
    "if 'goat' in guessed:\n",
    "    revealed = other_goat(guessed)\n",
    "    print('guess: ', guessed, 'revealed: ', revealed)\n",
    "\n",
    "if guessed == 'car':\n",
    "    revealed = np.random.choice(goats)\n",
    "    print('guess: ', guessed, 'revealed: ', revealed)"
   ]
  },
  {
   "cell_type": "code",
   "execution_count": null,
   "metadata": {},
   "outputs": [],
   "source": [
    "# now we wrap all this in a function\n",
    "\n",
    "def monty_hall_game(x, y):\n",
    "    '''\n",
    "    this function simulates one game\n",
    "    \n",
    "    Arguments\n",
    "    x: list of what is behind the doors\n",
    "    y: list of the less desirable prizes\n",
    "    \n",
    "    Returns\n",
    "    [guessed, revealed, returned]\n",
    "    '''\n",
    "    \n",
    "    guessed = np.random.choice(x)\n",
    "    \n",
    "    if 'goat' in guessed:\n",
    "        revealed = other_goat(guessed)\n",
    "        remaining = 'car'\n",
    "        \n",
    "        return [guessed, revealed, remaining]\n",
    "    \n",
    "    if guessed == 'car':\n",
    "        revealed = np.random.choice(y)\n",
    "        remaining = other_goat(revealed)\n",
    "        \n",
    "        return [guessed, revealed, remaining]"
   ]
  },
  {
   "cell_type": "code",
   "execution_count": null,
   "metadata": {},
   "outputs": [],
   "source": [
    "monty_hall_game(hidden_behind_doors, goats)"
   ]
  },
  {
   "cell_type": "code",
   "execution_count": null,
   "metadata": {},
   "outputs": [],
   "source": [
    "monty_hall_game(hidden_behind_doors, goats)"
   ]
  },
  {
   "cell_type": "code",
   "execution_count": null,
   "metadata": {},
   "outputs": [],
   "source": [
    "monty_hall_game(hidden_behind_doors, goats)"
   ]
  },
  {
   "cell_type": "code",
   "execution_count": null,
   "metadata": {},
   "outputs": [],
   "source": []
  },
  {
   "cell_type": "code",
   "execution_count": null,
   "metadata": {},
   "outputs": [],
   "source": [
    "# Step 3: Simulating many plays"
   ]
  },
  {
   "cell_type": "code",
   "execution_count": null,
   "metadata": {},
   "outputs": [],
   "source": [
    "number_of_plays = 10000\n",
    "\n",
    "results = []\n",
    "for i in range(number_of_plays):\n",
    "    results.append(monty_hall_game(hidden_behind_doors, goats))"
   ]
  },
  {
   "cell_type": "code",
   "execution_count": null,
   "metadata": {},
   "outputs": [],
   "source": [
    "# turn the list into an array in order to use more flexible indexing\n",
    "results_arr = np.array(results)\n",
    "\n",
    "results_arr[:, 0] == 'car'"
   ]
  },
  {
   "cell_type": "code",
   "execution_count": null,
   "metadata": {},
   "outputs": [],
   "source": [
    "# summing over booleans\n",
    "sum(results_arr[:, 0] == 'car')"
   ]
  },
  {
   "cell_type": "code",
   "execution_count": null,
   "metadata": {},
   "outputs": [],
   "source": [
    "# doing the counting with lists (several lines)\n",
    "counts = []\n",
    "for hidden in hidden_behind_doors:\n",
    "    count = sum(results_arr[:, 0] == hidden)\n",
    "    counts.append(count)\n",
    "print(counts)"
   ]
  },
  {
   "cell_type": "code",
   "execution_count": null,
   "metadata": {},
   "outputs": [],
   "source": [
    "# doing the counting with list comprehension (one lines)\n",
    "\n",
    "\n",
    "# introducing list comprehension\n",
    "values = []\n",
    "for i in range(10):\n",
    "    two_i = 2*i\n",
    "    values.append(two_i)\n",
    "print(values)"
   ]
  },
  {
   "cell_type": "code",
   "execution_count": null,
   "metadata": {},
   "outputs": [],
   "source": [
    "values = [2*i for i in range(10)]\n",
    "print(values)"
   ]
  },
  {
   "cell_type": "code",
   "execution_count": null,
   "metadata": {},
   "outputs": [],
   "source": [
    "[sum(results_arr[:, 0] == hidden) for hidden in hidden_behind_doors]"
   ]
  },
  {
   "cell_type": "code",
   "execution_count": null,
   "metadata": {},
   "outputs": [],
   "source": [
    "# wrapping it all in a function\n",
    "\n",
    "def simulation(number_of_plays):\n",
    "    results = []\n",
    "    hidden_behind_doors = ['car', 'goat one', 'goat two']\n",
    "    goats = ['goat one', 'goat two']\n",
    "\n",
    "    for i in range(number_of_plays):\n",
    "        results.append(monty_hall_game(hidden_behind_doors, goats))\n",
    "\n",
    "    results_arr = np.array(results)\n",
    "    \n",
    "    # taking advatage of boolean representation as 0 and 1\n",
    "    # and using list comprehension\n",
    "    guessed_counts = [sum(results_arr[:, 0] == hidden) for hidden in hidden_behind_doors]\n",
    "    remaining_counts = [sum(results_arr[:, 2] == hidden) for hidden in hidden_behind_doors]\n",
    "    \n",
    "    return guessed_counts, remaining_counts"
   ]
  },
  {
   "cell_type": "code",
   "execution_count": null,
   "metadata": {},
   "outputs": [],
   "source": [
    "guessed_counts, remaining_counts = simulation(10000)"
   ]
  },
  {
   "cell_type": "code",
   "execution_count": null,
   "metadata": {},
   "outputs": [],
   "source": []
  },
  {
   "cell_type": "code",
   "execution_count": null,
   "metadata": {},
   "outputs": [],
   "source": [
    "#Step 4: Visualizing results"
   ]
  },
  {
   "cell_type": "code",
   "execution_count": null,
   "metadata": {
    "scrolled": true
   },
   "outputs": [],
   "source": [
    "# we will use the library matplotlib to make plots\n",
    "\n",
    "import matplotlib.pyplot as plt\n",
    "\n",
    "plt.plot(guessed_counts)\n",
    "plt.plot(remaining_counts)"
   ]
  },
  {
   "cell_type": "code",
   "execution_count": null,
   "metadata": {},
   "outputs": [],
   "source": [
    "# here is a bar plots with appropriate labels etc.\n",
    "\n",
    "x = np.arange(len(hidden_behind_doors))  # the label x-axis locations\n",
    "width = 0.35  # the width of the bars\n",
    "\n",
    "plt.figure()\n",
    "plt.bar(x - width/2, guessed_counts, width, label='original door')\n",
    "plt.bar(x + width/2, remaining_counts, width, label='remaining door')\n",
    "\n",
    "# Add some text for labels, title and custom x-axis tick labels, etc.\n",
    "plt.ylabel('count')\n",
    "plt.title('simulated monty hall games')\n",
    "plt.xticks(ticks=x, labels=hidden_behind_doors)\n",
    "plt.legend()\n",
    "plt.show()"
   ]
  },
  {
   "cell_type": "code",
   "execution_count": null,
   "metadata": {},
   "outputs": [],
   "source": []
  }
 ],
 "metadata": {
  "kernelspec": {
   "display_name": "Python 3",
   "language": "python",
   "name": "python3"
  },
  "language_info": {
   "codemirror_mode": {
    "name": "ipython",
    "version": 3
   },
   "file_extension": ".py",
   "mimetype": "text/x-python",
   "name": "python",
   "nbconvert_exporter": "python",
   "pygments_lexer": "ipython3",
   "version": "3.7.2"
  }
 },
 "nbformat": 4,
 "nbformat_minor": 4
}

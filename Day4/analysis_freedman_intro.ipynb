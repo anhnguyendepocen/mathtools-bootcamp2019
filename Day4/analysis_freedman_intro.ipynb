{
 "cells": [
  {
   "cell_type": "code",
   "execution_count": 1,
   "metadata": {},
   "outputs": [],
   "source": [
    "import numpy as np\n",
    "import matplotlib.pyplot as plt\n",
    "from scipy.io import loadmat"
   ]
  },
  {
   "cell_type": "markdown",
   "metadata": {},
   "source": [
    "# The spiking of an MT neuron\n",
    "\n",
    "Ex 1: load the spiking of an MT neuron"
   ]
  },
  {
   "cell_type": "code",
   "execution_count": 2,
   "metadata": {},
   "outputs": [],
   "source": [
    "mt_neuron_path = '../freedman2006/MT/dseao01.mat'"
   ]
  },
  {
   "cell_type": "code",
   "execution_count": 3,
   "metadata": {},
   "outputs": [],
   "source": [
    "mt_neuron = loadmat(mt_neuron_path)"
   ]
  },
  {
   "cell_type": "code",
   "execution_count": 6,
   "metadata": {},
   "outputs": [
    {
     "data": {
      "text/plain": [
       "dict_keys(['__header__', '__version__', '__globals__', 'trial_raster', 'samp_direction_this_trial', 'test_direction_this_trial'])"
      ]
     },
     "execution_count": 6,
     "metadata": {},
     "output_type": "execute_result"
    }
   ],
   "source": [
    "mt_neuron.keys()"
   ]
  },
  {
   "cell_type": "code",
   "execution_count": 8,
   "metadata": {},
   "outputs": [
    {
     "data": {
      "text/plain": [
       "(246, 2700)"
      ]
     },
     "execution_count": 8,
     "metadata": {},
     "output_type": "execute_result"
    }
   ],
   "source": [
    "# what shape?\n",
    "mt_neuron['trial_raster'].shape"
   ]
  },
  {
   "cell_type": "code",
   "execution_count": 15,
   "metadata": {},
   "outputs": [
    {
     "data": {
      "text/plain": [
       "<matplotlib.lines.Line2D at 0xb1a1e5be0>"
      ]
     },
     "execution_count": 15,
     "metadata": {},
     "output_type": "execute_result"
    },
    {
     "data": {
      "image/png": "[encoded data removed]",
      "text/plain": [
       "<Figure size 432x288 with 1 Axes>"
      ]
     },
     "metadata": {
      "needs_background": "light"
     },
     "output_type": "display_data"
    }
   ],
   "source": [
    "# plot this raster using plt.imshow\n",
    "plt.imshow(mt_neuron['trial_raster'], aspect='auto', cmap='gray_r')\n",
    "plt.xlabel('time in ms')\n",
    "plt.ylabel('trial')\n",
    "# plot vertical lines to delineate epochs\n",
    "# initial stimulus presentation\n",
    "plt.axvline(600, c='r')\n",
    "plt.axvline(1100, c='r')\n",
    "# delay period\n",
    "plt.axvline(1350, c='b')\n",
    "plt.axvline(2000, c='b')"
   ]
  },
  {
   "cell_type": "code",
   "execution_count": 19,
   "metadata": {},
   "outputs": [
    {
     "data": {
      "text/plain": [
       "array([[150, 180, 240,  90,  90, 300, 240, 210,  60,  30,  60, 300,  30,\n",
       "        150,  90, 150, 270, 300,  90,  60,  30, 180, 180,  30,  30, 240,\n",
       "        180, 330, 150, 120, 180, 330, 240,  60,   0,  30, 120, 330, 330,\n",
       "         90, 120, 240, 150, 300, 270,   0, 240,  90, 180,  90,  30, 180,\n",
       "        270, 300, 270, 240, 330, 240, 120, 240, 180, 270, 270, 240,  90,\n",
       "         60,   0, 300, 330,  30,   0, 120, 240,  60,  30, 240, 270, 150,\n",
       "          0, 270, 240, 210, 180,  30, 330, 240,   0, 150,   0, 180,  90,\n",
       "          0,   0, 330, 300,   0,  30, 120, 240,  60, 270, 300,   0,  90,\n",
       "          0, 330, 180,  60,  30,  60, 300,  30, 270, 270,  90, 180, 210,\n",
       "        150,  90, 270, 150, 330, 180, 180, 180, 330, 180, 150,  30,   0,\n",
       "        180, 150,  60, 300, 180, 150, 120, 240,  60,  60, 210, 120, 120,\n",
       "        330,  60, 150, 330, 300, 210,   0,   0, 180, 150, 240, 150, 300,\n",
       "        210, 300, 180,   0,  60, 240,   0, 240, 300, 150, 270,  60,  60,\n",
       "        330,  60, 210, 150, 180, 150, 180,  90, 240, 180, 210, 240, 300,\n",
       "        240, 240,   0,  30, 300, 300,  30, 270, 180, 180, 180, 240, 330,\n",
       "        270, 210,   0, 180, 240, 330,  60,  60, 300,  30, 180, 300, 240,\n",
       "        240, 330, 240,  30, 300, 240,  30, 210,  60,  60,  60, 270,  30,\n",
       "        180, 300,  30,  60, 120, 210,   0, 300,  60, 120,  90, 240, 150,\n",
       "          0, 210, 120, 210, 120, 270, 180, 120, 210,  30,   0, 150]],\n",
       "      dtype=uint16)"
      ]
     },
     "execution_count": 19,
     "metadata": {},
     "output_type": "execute_result"
    }
   ],
   "source": [
    "# mt_neuron.keys()\n",
    "# the trials are not ordered!\n",
    "mt_neuron['samp_direction_this_trial']"
   ]
  },
  {
   "cell_type": "code",
   "execution_count": 20,
   "metadata": {},
   "outputs": [
    {
     "data": {
      "text/plain": [
       "array([  0,  30,  60,  90, 120, 150, 180, 210, 240, 270, 300, 330],\n",
       "      dtype=uint16)"
      ]
     },
     "execution_count": 20,
     "metadata": {},
     "output_type": "execute_result"
    }
   ],
   "source": [
    "np.unique(mt_neuron['samp_direction_this_trial'])"
   ]
  },
  {
   "cell_type": "code",
   "execution_count": 21,
   "metadata": {},
   "outputs": [],
   "source": [
    "# Exercise sort these trials"
   ]
  },
  {
   "cell_type": "code",
   "execution_count": 41,
   "metadata": {},
   "outputs": [],
   "source": [
    "# example\n",
    "\n",
    "unsorted_array = np.random.rand(2)"
   ]
  },
  {
   "cell_type": "code",
   "execution_count": 42,
   "metadata": {},
   "outputs": [
    {
     "data": {
      "text/plain": [
       "array([0.74849261, 0.15549432])"
      ]
     },
     "execution_count": 42,
     "metadata": {},
     "output_type": "execute_result"
    }
   ],
   "source": [
    "unsorted_array"
   ]
  },
  {
   "cell_type": "code",
   "execution_count": 43,
   "metadata": {},
   "outputs": [
    {
     "data": {
      "text/plain": [
       "array([1, 0])"
      ]
     },
     "execution_count": 43,
     "metadata": {},
     "output_type": "execute_result"
    }
   ],
   "source": [
    "indices = np.argsort(unsorted_array)\n",
    "indices"
   ]
  },
  {
   "cell_type": "code",
   "execution_count": 44,
   "metadata": {},
   "outputs": [],
   "source": [
    "sorted_array = unsorted_array[indices]"
   ]
  },
  {
   "cell_type": "code",
   "execution_count": 45,
   "metadata": {},
   "outputs": [
    {
     "data": {
      "text/plain": [
       "array([0.15549432, 0.74849261])"
      ]
     },
     "execution_count": 45,
     "metadata": {},
     "output_type": "execute_result"
    }
   ],
   "source": [
    "sorted_array"
   ]
  },
  {
   "cell_type": "code",
   "execution_count": 63,
   "metadata": {},
   "outputs": [
    {
     "data": {
      "text/plain": [
       "(3,)"
      ]
     },
     "execution_count": 63,
     "metadata": {},
     "output_type": "execute_result"
    }
   ],
   "source": [
    "# introducing\n",
    "np.random.rand(3,1).squeeze().shape"
   ]
  },
  {
   "cell_type": "code",
   "execution_count": 58,
   "metadata": {},
   "outputs": [
    {
     "data": {
      "text/plain": [
       "(246,)"
      ]
     },
     "execution_count": 58,
     "metadata": {},
     "output_type": "execute_result"
    }
   ],
   "source": [
    "unsorted_directions = mt_neuron['samp_direction_this_trial'].squeeze()\n",
    "\n",
    "unsorted_directions.shape"
   ]
  },
  {
   "cell_type": "code",
   "execution_count": 59,
   "metadata": {},
   "outputs": [
    {
     "data": {
      "text/plain": [
       "(246,)"
      ]
     },
     "execution_count": 59,
     "metadata": {},
     "output_type": "execute_result"
    }
   ],
   "source": [
    "sorted_indices = np.argsort(unsorted_directions)\n",
    "sorted_indices.shape"
   ]
  },
  {
   "cell_type": "code",
   "execution_count": 60,
   "metadata": {},
   "outputs": [],
   "source": [
    "# Ex: use these sorted indices to plot an raster with sorted rows"
   ]
  },
  {
   "cell_type": "code",
   "execution_count": 61,
   "metadata": {},
   "outputs": [],
   "source": [
    "raster = mt_neuron['trial_raster']"
   ]
  },
  {
   "cell_type": "code",
   "execution_count": 52,
   "metadata": {},
   "outputs": [
    {
     "data": {
      "text/plain": [
       "(246, 2700)"
      ]
     },
     "execution_count": 52,
     "metadata": {},
     "output_type": "execute_result"
    }
   ],
   "source": [
    "raster.shape"
   ]
  },
  {
   "cell_type": "code",
   "execution_count": 66,
   "metadata": {},
   "outputs": [
    {
     "data": {
      "text/plain": [
       "<matplotlib.image.AxesImage at 0xb19a3a2e8>"
      ]
     },
     "execution_count": 66,
     "metadata": {},
     "output_type": "execute_result"
    },
    {
     "data": {
      "image/png": "[encoded data removed]",
      "text/plain": [
       "<Figure size 432x288 with 1 Axes>"
      ]
     },
     "metadata": {
      "needs_background": "light"
     },
     "output_type": "display_data"
    }
   ],
   "source": [
    "plt.imshow(raster[sorted_indices], aspect='auto', cmap='gray_r')"
   ]
  },
  {
   "cell_type": "code",
   "execution_count": 67,
   "metadata": {},
   "outputs": [],
   "source": [
    "# Ex: are there as many trials for each direction?\n",
    "# hint: use np.unique(..., return_counts=True)"
   ]
  },
  {
   "cell_type": "code",
   "execution_count": 69,
   "metadata": {},
   "outputs": [
    {
     "name": "stdout",
     "output_type": "stream",
     "text": [
      "[22 22 24 14 14 20 30 14 30 17 22 17]\n"
     ]
    }
   ],
   "source": [
    "unique_dirs, count_dirs = np.unique(unsorted_directions, return_counts=True)\n",
    "print(count_dirs)"
   ]
  },
  {
   "cell_type": "code",
   "execution_count": null,
   "metadata": {},
   "outputs": [],
   "source": [
    "# Ex: add lines to our raster plot to delineate trial types \n",
    "# hint: use plt.axhline\n",
    "# hint: use np.cumsum"
   ]
  },
  {
   "cell_type": "code",
   "execution_count": 76,
   "metadata": {},
   "outputs": [],
   "source": [
    "cum_counts = np.cumsum(count_dirs)\n",
    "\n",
    "# for c in cum_counts:\n",
    "#     print(c)"
   ]
  },
  {
   "cell_type": "code",
   "execution_count": 75,
   "metadata": {},
   "outputs": [
    {
     "data": {
      "image/png": "[encoded data removed]",
      "text/plain": [
       "<Figure size 432x288 with 1 Axes>"
      ]
     },
     "metadata": {
      "needs_background": "light"
     },
     "output_type": "display_data"
    }
   ],
   "source": [
    "plt.imshow(raster[sorted_indices], aspect='auto', cmap='gray_r')\n",
    "for c in cum_counts:\n",
    "    plt.axhline(c)\n",
    "plt.yticks(ticks=cum_counts, labels=unique_dirs)\n",
    "plt.show()"
   ]
  },
  {
   "cell_type": "code",
   "execution_count": null,
   "metadata": {},
   "outputs": [],
   "source": [
    "# this plot is insufficient, we need a tuning curve!\n",
    "# EX: compute the mean firing rate of this neuron during the sampling period (600 to 1100) for each direction\n",
    "# then plot direction against mean firing\n",
    "# note: firing rates are measured in spikes/sec (Hz)"
   ]
  },
  {
   "cell_type": "code",
   "execution_count": 92,
   "metadata": {},
   "outputs": [],
   "source": [
    "count_start = 600\n",
    "count_stop = 1100\n",
    "conversion = 1000 / (count_stop - count_start)\n",
    "\n",
    "direction_spike_rate = []\n",
    "for d in unique_dirs:\n",
    "    trials_in_d = unsorted_directions == d\n",
    "    raster_slice = raster[trials_in_d, count_start:count_stop]\n",
    "    spike_count = np.sum(raster_slice, axis=1)\n",
    "    mean_spike_count = np.mean(spike_count)\n",
    "\n",
    "    mean_spike_rate = mean_spike_count * conversion\n",
    "\n",
    "    direction_spike_rate.append(mean_spike_rate)"
   ]
  },
  {
   "cell_type": "code",
   "execution_count": 96,
   "metadata": {},
   "outputs": [
    {
     "data": {
      "image/png": "[encoded data removed]",
      "text/plain": [
       "<Figure size 432x288 with 1 Axes>"
      ]
     },
     "metadata": {
      "needs_background": "light"
     },
     "output_type": "display_data"
    }
   ],
   "source": [
    "plt.plot(unique_dirs, direction_spike_rate)\n",
    "plt.show()"
   ]
  },
  {
   "cell_type": "code",
   "execution_count": null,
   "metadata": {},
   "outputs": [],
   "source": []
  }
 ],
 "metadata": {
  "kernelspec": {
   "display_name": "Python 3",
   "language": "python",
   "name": "python3"
  },
  "language_info": {
   "codemirror_mode": {
    "name": "ipython",
    "version": 3
   },
   "file_extension": ".py",
   "mimetype": "text/x-python",
   "name": "python",
   "nbconvert_exporter": "python",
   "pygments_lexer": "ipython3",
   "version": "3.7.2"
  }
 },
 "nbformat": 4,
 "nbformat_minor": 4
}

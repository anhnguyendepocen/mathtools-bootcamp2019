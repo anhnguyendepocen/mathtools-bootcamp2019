{
 "cells": [
  {
   "cell_type": "code",
   "execution_count": 1,
   "metadata": {},
   "outputs": [],
   "source": [
    "import numpy as np"
   ]
  },
  {
   "cell_type": "markdown",
   "metadata": {},
   "source": [
    "This is a little explanation of two ways to handle indexing an array with multiple conditions in python- we are doing this here because it came up for quite a few people in the IT analysis. "
   ]
  },
  {
   "cell_type": "code",
   "execution_count": 8,
   "metadata": {},
   "outputs": [
    {
     "name": "stdout",
     "output_type": "stream",
     "text": [
      "(array([0, 3], dtype=int64),)\n",
      "(2, 20)\n",
      "[ True False False  True]\n",
      "(2, 20)\n",
      "True\n"
     ]
    }
   ],
   "source": [
    "#Create random array of 20x20\n",
    "#Let's say that this array has rows which correspond to 2 different labels: label1 and label2\n",
    "\n",
    "x = np.random.rand(4,20)\n",
    "label1 = np.array(['A', 'A', 'B', 'A'])\n",
    "label2 = np.array(['X', 'Y', 'Y', 'X'])\n",
    "\n",
    "#Let's say we want to select rows of x where label1 is 'A' and label2 is 'X'\n",
    "#We can do this in two ways\n",
    "\n",
    "#Method 1:\n",
    "\n",
    "inds = np.where((label1 == 'A') & (label2 == 'X'))\n",
    "print(inds)\n",
    "\n",
    "x_select = x[inds]\n",
    "#Now we have selected the two rows of x such that the labels for those rows are 'A' and 'X' \n",
    "print(x_select.shape)\n",
    "\n",
    "\n",
    "#Method2:\n",
    "#Here inds is a boolean array with True in the locations where label1 is 'A' and label2 is 'X'\n",
    "inds = (label1 == 'A') & (label2 == 'X')\n",
    "print(inds)\n",
    "\n",
    "x_select2 = x[inds]\n",
    "print(x_select2.shape)\n",
    "\n",
    "\n",
    "#You can verify that x_select == x_select2\n",
    "print(np.array_equal(x_select, x_select2))"
   ]
  },
  {
   "cell_type": "markdown",
   "metadata": {},
   "source": [
    "Note above instead of \"and\" we have used the ampersand (&). Similarly, instead of \"or\" we would need to use \"|\". Just note that this is necessary when the conditional statements produce arrays of True/False or arrays of indices which you want to index. "
   ]
  },
  {
   "cell_type": "code",
   "execution_count": null,
   "metadata": {},
   "outputs": [],
   "source": []
  }
 ],
 "metadata": {
  "kernelspec": {
   "display_name": "Python [default]",
   "language": "python",
   "name": "python3"
  },
  "language_info": {
   "codemirror_mode": {
    "name": "ipython",
    "version": 3
   },
   "file_extension": ".py",
   "mimetype": "text/x-python",
   "name": "python",
   "nbconvert_exporter": "python",
   "pygments_lexer": "ipython3",
   "version": "3.6.2"
  }
 },
 "nbformat": 4,
 "nbformat_minor": 2
}
